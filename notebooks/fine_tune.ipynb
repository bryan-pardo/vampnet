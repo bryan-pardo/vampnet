{
  "cells": [
    {
      "cell_type": "markdown",
      "metadata": {
        "id": "0GotD4W8p5d5"
      },
      "source": [
        "# vampnet! tour"
      ]
    },
    {
      "cell_type": "markdown",
      "metadata": {
        "id": "FYFu_V2np5d7"
      },
      "source": [
        "## installing vampnet!"
      ]
    },
    {
      "cell_type": "code",
      "execution_count": 1,
      "metadata": {
        "id": "AC7bNemBp9VM"
      },
      "outputs": [],
      "source": [
        "%%capture\n",
        "!git clone --recursive https://github.com/hugofloresgarcia/vampnet.git\n",
        "\n",
        "import os\n",
        "os.chdir(\"./vampnet\")\n",
        "\n",
        "!pip install  ."
      ]
    },
    {
      "cell_type": "markdown",
      "metadata": {
        "id": "ZFS2c2Yop5d-"
      },
      "source": [
        "## adding a dataset for fine tuning or training"
      ]
    },
    {
      "cell_type": "markdown",
      "metadata": {
        "id": "Ff8GXb2Rp5d-"
      },
      "source": [
        "yass uses a duckdb database to manage data.\n",
        "\n",
        "first, let's init our db if we havent."
      ]
    },
    {
      "cell_type": "code",
      "execution_count": null,
      "metadata": {
        "id": "4bwjc3EMp5d-",
        "outputId": "0dd424b3-4802-44eb-fc61-fe7e94299b6b"
      },
      "outputs": [
        {
          "name": "stdout",
          "output_type": "stream",
          "text": [
            "running create_dataset_table\n",
            "running create_audio_file_table\n",
            "running create_ctrl_sig_table\n",
            "running create_split_table\n",
            "done! :)\n"
          ]
        }
      ],
      "source": [
        "import vampnet\n",
        "from pathlib import Path\n",
        "import yapecs\n",
        "\n",
        "vampnet.db.init()"
      ]
    },
    {
      "cell_type": "markdown",
      "metadata": {
        "id": "vetJKusWp5d-"
      },
      "source": [
        "now, let's add an audio folder to our database."
      ]
    },
    {
      "cell_type": "code",
      "execution_count": null,
      "metadata": {
        "id": "XeEIuC3Vp5d-",
        "outputId": "e2552c01-a0aa-4ba4-c6b1-d737c4ebced4"
      },
      "outputs": [
        {
          "name": "stdout",
          "output_type": "stream",
          "text": [
            "looking for audio files in assets/example_audio\n",
            "Found 2 audio files\n"
          ]
        },
        {
          "name": "stderr",
          "output_type": "stream",
          "text": [
            "  0%|          | 0/2 [00:00<?, ?it/s]"
          ]
        },
        {
          "name": "stderr",
          "output_type": "stream",
          "text": [
            "100%|██████████| 2/2 [00:00<00:00, 15.01it/s]"
          ]
        },
        {
          "name": "stdout",
          "output_type": "stream",
          "text": [
            "Processed 2 audio files\n",
            "of which 0 failed\n",
            "done! committing to the db.\n"
          ]
        },
        {
          "name": "stderr",
          "output_type": "stream",
          "text": [
            "\n"
          ]
        }
      ],
      "source": [
        "# this is what we will call our dataset\n",
        "dataset = \"example\"\n",
        "\n",
        "# create the dataset\n",
        "vampnet.db.create.create_dataset(\n",
        "    audio_folder=\"assets/example_audio\",\n",
        "    dataset_name=dataset,\n",
        ")"
      ]
    },
    {
      "cell_type": "markdown",
      "metadata": {
        "id": "ZgzC79TUp5d-"
      },
      "source": [
        "preprocess the dataset"
      ]
    },
    {
      "cell_type": "code",
      "execution_count": null,
      "metadata": {
        "id": "uiG0W-jQp5d-",
        "outputId": "2de3df1c-6fd2-409c-d9ad-2aa8cafaaa2e"
      },
      "outputs": [
        {
          "name": "stdout",
          "output_type": "stream",
          "text": [
            "Found dataset example at assets/example_audio\n",
            "Found 2 audio files\n",
            "processing control signal dac\n"
          ]
        },
        {
          "name": "stderr",
          "output_type": "stream",
          "text": [
            "  0%|          | 0/2 [00:00<?, ?it/s]"
          ]
        },
        {
          "name": "stderr",
          "output_type": "stream",
          "text": [
            "100%|██████████| 2/2 [00:01<00:00,  1.05it/s]"
          ]
        },
        {
          "name": "stdout",
          "output_type": "stream",
          "text": [
            "Processed 2 audio files\n",
            "of which 0 failed\n",
            "committing changes to the db.\n"
          ]
        },
        {
          "name": "stderr",
          "output_type": "stream",
          "text": [
            "\n"
          ]
        }
      ],
      "source": [
        "vampnet.db.preprocess.preprocess(dataset=dataset)"
      ]
    },
    {
      "cell_type": "markdown",
      "metadata": {
        "id": "4bmrIzeZp5d-"
      },
      "source": [
        "pick a model to fine tune"
      ]
    },
    {
      "cell_type": "code",
      "execution_count": null,
      "metadata": {
        "id": "QFb8nMTMp5d_",
        "outputId": "349c015d-65f7-461c-b92a-48684a6cf9db"
      },
      "outputs": [
        {
          "name": "stdout",
          "output_type": "stream",
          "text": [
            "available hub models: ['hugggof/vampnet-models:vampnet-base-best']\n",
            "using model: hugggof/vampnet-models:vampnet-base-best\n"
          ]
        }
      ],
      "source": [
        "# we'll just pick the first one available online.\n",
        "available_hub_models = vampnet.list_hub_models()\n",
        "print(f\"available hub models: {available_hub_models}\")\n",
        "\n",
        "# load the hub model\n",
        "model_id = available_hub_models[0]\n",
        "print(f\"using model: {model_id}\")"
      ]
    },
    {
      "cell_type": "markdown",
      "metadata": {
        "id": "jD8bSs5Dp5d_"
      },
      "source": [
        "## fine tuning a pretrained model"
      ]
    },
    {
      "cell_type": "markdown",
      "metadata": {
        "id": "r6n6jmEQp5d_"
      },
      "source": [
        "fine tune!\n",
        "\n",
        "`vampnet.fine_tune.fine_tune` will return a `vampnet.interface.Interface`, which we can use to upload our model to the HF hub."
      ]
    },
    {
      "cell_type": "code",
      "execution_count": null,
      "metadata": {
        "colab": {
          "referenced_widgets": [
            "c3fdeb77bd844bb48a450165abe314a9"
          ]
        },
        "id": "aMX7jRu-p5d_",
        "outputId": "5e30d35b-2f15-417e-9d96-0296466af9ff"
      },
      "outputs": [],
      "source": [
        "interface = vampnet.fine_tune.fine_tune(\n",
        "    dataset=dataset,\n",
        "    base_model_name=model_id,\n",
        "    num_iters=1000, # fine tune for 1000 steps. \n",
        ")\n",
        "\n",
        "\n",
        "# we can save the model to disk now! :))\n",
        "vampnet.save_model(interface.model, namme=f\"finetuned-{dataset}\")"
      ]
    },
    {
      "cell_type": "code",
      "execution_count": null,
      "metadata": {},
      "outputs": [],
      "source": []
    }
  ],
  "metadata": {
    "colab": {
      "provenance": []
    },
    "kernelspec": {
      "display_name": "yass",
      "language": "python",
      "name": "python3"
    },
    "language_info": {
      "codemirror_mode": {
        "name": "ipython",
        "version": 3
      },
      "file_extension": ".py",
      "mimetype": "text/x-python",
      "name": "python",
      "nbconvert_exporter": "python",
      "pygments_lexer": "ipython3",
      "version": "3.9.19"
    }
  },
  "nbformat": 4,
  "nbformat_minor": 0
}
