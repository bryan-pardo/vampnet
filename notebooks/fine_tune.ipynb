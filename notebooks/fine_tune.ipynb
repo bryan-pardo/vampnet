{
  "cells": [
    {
      "cell_type": "markdown",
      "metadata": {
        "id": "0GotD4W8p5d5"
      },
      "source": [
        "# vampnet! tour"
      ]
    },
    {
      "cell_type": "markdown",
      "metadata": {
        "id": "FYFu_V2np5d7"
      },
      "source": [
        "## installing vampnet!"
      ]
    },
    {
      "cell_type": "code",
      "execution_count": 1,
      "metadata": {
        "id": "AC7bNemBp9VM"
      },
      "outputs": [],
      "source": [
        "%%capture\n",
        "!git clone --recursive https://github.com/hugofloresgarcia/vampnet.git\n",
        "\n",
        "import os\n",
        "os.chdir(\"./vampnet\")\n",
        "\n",
        "!pip install  ."
      ]
    },
    {
      "cell_type": "markdown",
      "metadata": {
        "id": "ZFS2c2Yop5d-"
      },
      "source": [
        "## adding a dataset for fine tuning or training"
      ]
    },
    {
      "cell_type": "markdown",
      "metadata": {
        "id": "Ff8GXb2Rp5d-"
      },
      "source": [
        "yass uses a duckdb database to manage data.\n",
        "\n",
        "first, let's init our db if we havent."
      ]
    },
    {
      "cell_type": "code",
      "execution_count": null,
      "metadata": {
        "id": "4bwjc3EMp5d-",
        "outputId": "0dd424b3-4802-44eb-fc61-fe7e94299b6b"
      },
      "outputs": [
        {
          "name": "stdout",
          "output_type": "stream",
          "text": [
            "running create_dataset_table\n",
            "running create_audio_file_table\n",
            "running create_ctrl_sig_table\n",
            "running create_split_table\n",
            "done! :)\n"
          ]
        }
      ],
      "source": [
        "import vampnet\n",
        "from pathlib import Path\n",
        "import yapecs\n",
        "\n",
        "vampnet.db.init()"
      ]
    },
    {
      "cell_type": "markdown",
      "metadata": {
        "id": "vetJKusWp5d-"
      },
      "source": [
        "now, let's add an audio folder to our database."
      ]
    },
    {
      "cell_type": "code",
      "execution_count": null,
      "metadata": {
        "id": "XeEIuC3Vp5d-",
        "outputId": "e2552c01-a0aa-4ba4-c6b1-d737c4ebced4"
      },
      "outputs": [
        {
          "name": "stdout",
          "output_type": "stream",
          "text": [
            "looking for audio files in assets/example_audio\n",
            "Found 2 audio files\n"
          ]
        },
        {
          "name": "stderr",
          "output_type": "stream",
          "text": [
            "  0%|          | 0/2 [00:00<?, ?it/s]"
          ]
        },
        {
          "name": "stderr",
          "output_type": "stream",
          "text": [
            "100%|██████████| 2/2 [00:00<00:00, 15.01it/s]"
          ]
        },
        {
          "name": "stdout",
          "output_type": "stream",
          "text": [
            "Processed 2 audio files\n",
            "of which 0 failed\n",
            "done! committing to the db.\n"
          ]
        },
        {
          "name": "stderr",
          "output_type": "stream",
          "text": [
            "\n"
          ]
        }
      ],
      "source": [
        "# this is what we will call our dataset\n",
        "dataset = \"example\"\n",
        "\n",
        "# create the dataset\n",
        "vampnet.db.create.create_dataset(\n",
        "    audio_folder=\"assets/example_audio\",\n",
        "    dataset_name=dataset,\n",
        ")"
      ]
    },
    {
      "cell_type": "markdown",
      "metadata": {
        "id": "ZgzC79TUp5d-"
      },
      "source": [
        "preprocess the dataset"
      ]
    },
    {
      "cell_type": "code",
      "execution_count": null,
      "metadata": {
        "id": "uiG0W-jQp5d-",
        "outputId": "2de3df1c-6fd2-409c-d9ad-2aa8cafaaa2e"
      },
      "outputs": [
        {
          "name": "stdout",
          "output_type": "stream",
          "text": [
            "Found dataset example at assets/example_audio\n",
            "Found 2 audio files\n",
            "processing control signal dac\n"
          ]
        },
        {
          "name": "stderr",
          "output_type": "stream",
          "text": [
            "  0%|          | 0/2 [00:00<?, ?it/s]"
          ]
        },
        {
          "name": "stderr",
          "output_type": "stream",
          "text": [
            "100%|██████████| 2/2 [00:01<00:00,  1.05it/s]"
          ]
        },
        {
          "name": "stdout",
          "output_type": "stream",
          "text": [
            "Processed 2 audio files\n",
            "of which 0 failed\n",
            "committing changes to the db.\n"
          ]
        },
        {
          "name": "stderr",
          "output_type": "stream",
          "text": [
            "\n"
          ]
        }
      ],
      "source": [
        "vampnet.db.preprocess.preprocess(dataset=dataset)"
      ]
    },
    {
      "cell_type": "markdown",
      "metadata": {
        "id": "4bmrIzeZp5d-"
      },
      "source": [
        "pick a model to fine tune"
      ]
    },
    {
      "cell_type": "code",
      "execution_count": null,
      "metadata": {
        "id": "QFb8nMTMp5d_",
        "outputId": "349c015d-65f7-461c-b92a-48684a6cf9db"
      },
      "outputs": [
        {
          "name": "stdout",
          "output_type": "stream",
          "text": [
            "available hub models: ['hugggof/vampnet-models:vampnet-base-best']\n",
            "using model: hugggof/vampnet-models:vampnet-base-best\n"
          ]
        }
      ],
      "source": [
        "# we'll just pick the first one available online.\n",
        "available_hub_models = vampnet.list_hub_models()\n",
        "print(f\"available hub models: {available_hub_models}\")\n",
        "\n",
        "# load the hub model\n",
        "model_id = available_hub_models[0]\n",
        "print(f\"using model: {model_id}\")"
      ]
    },
    {
      "cell_type": "markdown",
      "metadata": {
        "id": "jD8bSs5Dp5d_"
      },
      "source": [
        "## fine tuning a pretrained model"
      ]
    },
    {
      "cell_type": "markdown",
      "metadata": {
        "id": "r6n6jmEQp5d_"
      },
      "source": [
        "fine tune!\n",
        "\n",
        "`vampnet.fine_tune.fine_tune` will return a `vampnet.interface.Interface`, which we can use to upload our model to the HF hub."
      ]
    },
    {
      "cell_type": "code",
      "execution_count": 1,
      "metadata": {
        "colab": {
          "referenced_widgets": [
            "c3fdeb77bd844bb48a450165abe314a9"
          ]
        },
        "id": "aMX7jRu-p5d_",
        "outputId": "5e30d35b-2f15-417e-9d96-0296466af9ff"
      },
      "outputs": [
        {
          "ename": "NameError",
          "evalue": "name 'vampnet' is not defined",
          "output_type": "error",
          "traceback": [
            "\u001b[0;31m---------------------------------------------------------------------------\u001b[0m",
            "\u001b[0;31mNameError\u001b[0m                                 Traceback (most recent call last)",
            "Cell \u001b[0;32mIn[1], line 1\u001b[0m\n\u001b[0;32m----> 1\u001b[0m finetuned_interface \u001b[38;5;241m=\u001b[39m \u001b[43mvampnet\u001b[49m\u001b[38;5;241m.\u001b[39mfine_tune\u001b[38;5;241m.\u001b[39mfine_tune(\n\u001b[1;32m      2\u001b[0m     dataset\u001b[38;5;241m=\u001b[39mdataset,\n\u001b[1;32m      3\u001b[0m     model_name\u001b[38;5;241m=\u001b[39mmodel_id,\n\u001b[1;32m      4\u001b[0m     num_iters\u001b[38;5;241m=\u001b[39m\u001b[38;5;241m1000\u001b[39m, \u001b[38;5;66;03m# fine tune for 1000 steps. \u001b[39;00m\n\u001b[1;32m      5\u001b[0m )\n",
            "\u001b[0;31mNameError\u001b[0m: name 'vampnet' is not defined"
          ]
        }
      ],
      "source": [
        "finetuned_interface = vampnet.fine_tune.fine_tune(\n",
        "    dataset=dataset,\n",
        "    base_model_name=model_id,\n",
        "    num_iters=1000, # fine tune for 1000 steps. \n",
        ")\n",
        "\n",
        "# we can upload our finetuned model to the hub. \n",
        "vampnet.upload_model()"
      ]
    },
    {
      "cell_type": "markdown",
      "metadata": {
        "id": "sIN3hGpTp5d9"
      },
      "source": [
        "## pretrained models"
      ]
    },
    {
      "cell_type": "markdown",
      "metadata": {
        "id": "DGeQq0xUp5d9"
      },
      "source": [
        "view a list of locally available pretrained models, and load a local pretrained model"
      ]
    },
    {
      "cell_type": "code",
      "execution_count": null,
      "metadata": {
        "id": "qrkFzLbHp5d9",
        "outputId": "19720fd1-b688-4d7a-f3a2-fd9d621b3eeb"
      },
      "outputs": [
        {
          "name": "stdout",
          "output_type": "stream",
          "text": [
            "available_local_models: ['vampnet-base-best']\n"
          ]
        }
      ],
      "source": [
        "available_local_models = vampnet.list_local_models()\n",
        "print(f\"available_local_models: {available_local_models}\")\n",
        "\n",
        "# load the local model\n",
        "model_name = available_local_models[0]\n",
        "model = vampnet.load_local_model(model_name)"
      ]
    },
    {
      "cell_type": "markdown",
      "metadata": {
        "id": "9gQuzy6Mp5d9"
      },
      "source": [
        "view a list of available pretrained models in the HF hub, and load one"
      ]
    },
    {
      "cell_type": "code",
      "execution_count": null,
      "metadata": {
        "colab": {
          "referenced_widgets": [
            "05f3c2522b274e1ab59a73820474a535"
          ]
        },
        "id": "umZRE3elp5d9",
        "outputId": "e76990f5-7949-40af-9e8a-13870862259f"
      },
      "outputs": [
        {
          "name": "stdout",
          "output_type": "stream",
          "text": [
            "available hub models: ['hugggof/yass:vampnet-base-best']\n"
          ]
        },
        {
          "data": {
            "application/vnd.jupyter.widget-view+json": {
              "model_id": "05f3c2522b274e1ab59a73820474a535",
              "version_major": 2,
              "version_minor": 0
            },
            "text/plain": [
              "models/vampnet-base-best.vampnet:   0%|          | 0.00/12.0 [00:00<?, ?B/s]"
            ]
          },
          "metadata": {},
          "output_type": "display_data"
        }
      ],
      "source": [
        "available_hub_models = vampnet.list_hub_models()\n",
        "print(f\"available hub models: {available_hub_models}\")\n",
        "\n",
        "# load the hub model\n",
        "model_id = available_hub_models[0]\n",
        "model = vampnet.load_hub_model(model_id)"
      ]
    },
    {
      "cell_type": "markdown",
      "metadata": {
        "id": "ENZ40qd8p5d_"
      },
      "source": [
        "### export\n",
        "export the model after training.\n",
        "\n",
        "this copies the best model from the `runs` directory to the `models` directory, according to your config. \n",
        "optionally, you can upload the model to the huggingface_hub.\n",
        "\n",
        "this step is also necessary to use the model's gradio UI.\n",
        "\n",
        "if you also want to upload to huggingface, make sure to run `huggingface-cli login` on your terminal first.\n"
      ]
    },
    {
      "cell_type": "code",
      "execution_count": null,
      "metadata": {
        "id": "pRmpHbe6p5d_",
        "outputId": "5cce8b26-1c6d-41fa-9b95-ca6d07eeefdd"
      },
      "outputs": [
        {
          "name": "stdout",
          "output_type": "stream",
          "text": [
            "Model saved locally to /home/hugo/yass/models/vampnet-base-best.vampnet\n",
            "Creating repo hugggof/yass on the hub.\n",
            "Uploading model to hugggof/yass\n"
          ]
        },
        {
          "data": {
            "application/vnd.jupyter.widget-view+json": {
              "model_id": "e29cfe1d802a4bcaa3926195da95dc18",
              "version_major": 2,
              "version_minor": 0
            },
            "text/plain": [
              "vampnet-base-best.vampnet:   0%|          | 0.00/1.62G [00:00<?, ?B/s]"
            ]
          },
          "metadata": {},
          "output_type": "display_data"
        },
        {
          "name": "stdout",
          "output_type": "stream",
          "text": [
            "Model uploaded to hugggof/yass. !!!\n",
            "you may now use the model in the interface by running `yass.load_hf_model('hugggof/yass:vampnet-base-best')`\n"
          ]
        }
      ],
      "source": [
        "import yapecs\n",
        "import vampnet\n",
        "vampnet = yapecs.compose('vampnet', ['config/vampnet.py'])\n",
        "vampnet.export.export_model()"
      ]
    },
    {
      "cell_type": "code",
      "execution_count": null,
      "metadata": {},
      "outputs": [],
      "source": []
    }
  ],
  "metadata": {
    "colab": {
      "provenance": []
    },
    "kernelspec": {
      "display_name": "yass",
      "language": "python",
      "name": "python3"
    },
    "language_info": {
      "codemirror_mode": {
        "name": "ipython",
        "version": 3
      },
      "file_extension": ".py",
      "mimetype": "text/x-python",
      "name": "python",
      "nbconvert_exporter": "python",
      "pygments_lexer": "ipython3",
      "version": "3.9.19"
    }
  },
  "nbformat": 4,
  "nbformat_minor": 0
}
